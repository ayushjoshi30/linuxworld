{
 "cells": [
  {
   "cell_type": "code",
   "execution_count": 2,
   "id": "4fe03af9",
   "metadata": {},
   "outputs": [
    {
     "ename": "ModuleNotFoundError",
     "evalue": "No module named 'pywhatkit'",
     "output_type": "error",
     "traceback": [
      "\u001b[1;31m---------------------------------------------------------------------------\u001b[0m",
      "\u001b[1;31mModuleNotFoundError\u001b[0m                       Traceback (most recent call last)",
      "Cell \u001b[1;32mIn [2], line 1\u001b[0m\n\u001b[1;32m----> 1\u001b[0m \u001b[38;5;28;01mimport\u001b[39;00m \u001b[38;5;21;01mpywhatkit\u001b[39;00m \u001b[38;5;28;01mas\u001b[39;00m \u001b[38;5;21;01mpwk\u001b[39;00m\n\u001b[0;32m      2\u001b[0m \u001b[38;5;28;01mimport\u001b[39;00m \u001b[38;5;21;01mos\u001b[39;00m\n\u001b[0;32m      3\u001b[0m \u001b[38;5;28mprint\u001b[39m(\u001b[38;5;124m\"\u001b[39m\u001b[38;5;130;01m\\t\u001b[39;00m\u001b[38;5;130;01m\\t\u001b[39;00m\u001b[38;5;130;01m\\t\u001b[39;00m\u001b[38;5;130;01m\\t\u001b[39;00m\u001b[38;5;130;01m\\t\u001b[39;00m\u001b[38;5;124mWelcome to LinuxWorld\u001b[39m\u001b[38;5;124m\"\u001b[39m)\n",
      "\u001b[1;31mModuleNotFoundError\u001b[0m: No module named 'pywhatkit'"
     ]
    }
   ],
   "source": [
    "import pywhatkit as pwk\n",
    "import os\n",
    "print(\"\\t\\t\\t\\t\\tWelcome to LinuxWorld\")\n",
    "print(\"\\t\\t\\t\\t______________\")\n",
    "print (\"\\t\\t\\t\\tyour  assistant is ready in  services\\n\")\n",
    "\n",
    "inp= input(\"what would you like me to do:\")\n",
    "\n",
    "if \"date\" in inp:\n",
    "      today = date.today()\n",
    "      print(\"Today date is: \", today)\n",
    "elif \"whatsapp\" in inp:\n",
    "    pwk.sendwhatmsg(\n",
    "    phone_no=\"+917976542544\",\n",
    "    message=\"This is a scheduled message.\",\n",
    "    time_hour=14,\n",
    "    time_min=23\n",
    ")\n",
    "elif \"email\" in inp:\n",
    "    print(\"karta hu mein jugaad\")\n",
    "elif \"calendar\" in inp:\n",
    "    print(calendar.month(yy, mm))\n",
    "else:\n",
    "    exit()"
   ]
  },
  {
   "cell_type": "code",
   "execution_count": null,
   "id": "3007c8ef",
   "metadata": {},
   "outputs": [],
   "source": []
  }
 ],
 "metadata": {
  "kernelspec": {
   "display_name": "Python 3 (ipykernel)",
   "language": "python",
   "name": "python3"
  },
  "language_info": {
   "codemirror_mode": {
    "name": "ipython",
    "version": 3
   },
   "file_extension": ".py",
   "mimetype": "text/x-python",
   "name": "python",
   "nbconvert_exporter": "python",
   "pygments_lexer": "ipython3",
   "version": "3.10.8"
  }
 },
 "nbformat": 4,
 "nbformat_minor": 5
}
