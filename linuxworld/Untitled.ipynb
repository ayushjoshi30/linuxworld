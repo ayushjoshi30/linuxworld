{
 "cells": [
  {
   "cell_type": "code",
   "execution_count": null,
   "id": "001a7291",
   "metadata": {},
   "outputs": [],
   "source": [
    "\n"
   ]
  },
  {
   "cell_type": "code",
   "execution_count": 2,
   "id": "6f4dd0d3",
   "metadata": {},
   "outputs": [
    {
     "name": "stdout",
     "output_type": "stream",
     "text": [
      "Input data (2D array):\n",
      "[[  1   3   7  15  31]\n",
      " [  3   7  15  31  63]\n",
      " [  7  15  31  63 127]]\n",
      "Corresponding target values:\n",
      "[ 63 127 255]\n"
     ]
    }
   ],
   "source": [
    "import numpy as np\n",
    "\n",
    "# Given 1D data\n",
    "data = [1, 3, 7, 15, 31, 63, 127, 255]\n",
    "\n",
    "# Define the sequence length (number of time steps to consider for each sample)\n",
    "sequence_length = 5\n",
    "\n",
    "# Prepare input sequences and corresponding target values\n",
    "input_sequences = []\n",
    "target_values = []\n",
    "\n",
    "for i in range(len(data) - sequence_length):\n",
    "    input_seq = data[i:i + sequence_length]\n",
    "    target_value = data[i + sequence_length]\n",
    "    input_sequences.append(input_seq)\n",
    "    target_values.append(target_value)\n",
    "\n",
    "# Convert lists to numpy arrays\n",
    "X = np.array(input_sequences)\n",
    "y = np.array(target_values)\n",
    "\n",
    "print(\"Input data (2D array):\")\n",
    "print(X)\n",
    "print(\"Corresponding target values:\")\n",
    "print(y)\n"
   ]
  },
  {
   "cell_type": "code",
   "execution_count": null,
   "id": "d426d39a",
   "metadata": {},
   "outputs": [],
   "source": []
  }
 ],
 "metadata": {
  "kernelspec": {
   "display_name": "Python 3 (ipykernel)",
   "language": "python",
   "name": "python3"
  },
  "language_info": {
   "codemirror_mode": {
    "name": "ipython",
    "version": 3
   },
   "file_extension": ".py",
   "mimetype": "text/x-python",
   "name": "python",
   "nbconvert_exporter": "python",
   "pygments_lexer": "ipython3",
   "version": "3.10.8"
  }
 },
 "nbformat": 4,
 "nbformat_minor": 5
}
