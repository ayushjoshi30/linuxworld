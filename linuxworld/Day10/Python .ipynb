{
 "cells": [
  {
   "cell_type": "code",
   "execution_count": 1,
   "id": "51fdb1ed",
   "metadata": {},
   "outputs": [],
   "source": [
    "class jobform:\n",
    "    name=None\n",
    "    mob=None\n",
    "    exp=None"
   ]
  },
  {
   "cell_type": "code",
   "execution_count": 2,
   "id": "e9ca392b",
   "metadata": {},
   "outputs": [],
   "source": [
    "class studentform:\n",
    "    name=None\n",
    "    mob=None\n",
    "    query=None"
   ]
  },
  {
   "cell_type": "code",
   "execution_count": 71,
   "id": "7aacf91b",
   "metadata": {},
   "outputs": [],
   "source": [
    "class Commonform:\n",
    "    name=None\n",
    "    mob=None\n",
    "    country=None\n",
    "    def __init__(self,n,m,c):\n",
    "        self.name=n\n",
    "        self.mob=m\n",
    "        self.country=c"
   ]
  },
  {
   "cell_type": "code",
   "execution_count": 72,
   "id": "bcd9a5fc",
   "metadata": {},
   "outputs": [],
   "source": [
    "class jobform(Commonform):\n",
    "    exp=None\n",
    "    def __init__(self,myexp,myname,mymob,mycountry=\"India\"):\n",
    "        self.exp=myexp\n",
    "        super().__init__(myname,myquery,mycountry)"
   ]
  },
  {
   "cell_type": "code",
   "execution_count": 73,
   "id": "32418a5a",
   "metadata": {},
   "outputs": [],
   "source": [
    "class studentform(Commonform):\n",
    "    query=None\n",
    "    def __init__(self,myquery,myname,mymob,mycountry=\"India\"):\n",
    "        self.query=myquery\n",
    "        super().__init__(myname,myquery,mycountry)"
   ]
  },
  {
   "cell_type": "code",
   "execution_count": 74,
   "id": "bd5c9885",
   "metadata": {},
   "outputs": [],
   "source": [
    "tom=studentform(\"QC FORM\",\"TOM\",9090,\"India\")"
   ]
  },
  {
   "cell_type": "code",
   "execution_count": 76,
   "id": "f9669678",
   "metadata": {},
   "outputs": [
    {
     "data": {
      "text/plain": [
       "['__class__',\n",
       " '__delattr__',\n",
       " '__dict__',\n",
       " '__dir__',\n",
       " '__doc__',\n",
       " '__eq__',\n",
       " '__format__',\n",
       " '__ge__',\n",
       " '__getattribute__',\n",
       " '__gt__',\n",
       " '__hash__',\n",
       " '__init__',\n",
       " '__init_subclass__',\n",
       " '__le__',\n",
       " '__lt__',\n",
       " '__module__',\n",
       " '__ne__',\n",
       " '__new__',\n",
       " '__reduce__',\n",
       " '__reduce_ex__',\n",
       " '__repr__',\n",
       " '__setattr__',\n",
       " '__sizeof__',\n",
       " '__str__',\n",
       " '__subclasshook__',\n",
       " '__weakref__',\n",
       " 'country',\n",
       " 'mob',\n",
       " 'name',\n",
       " 'query']"
      ]
     },
     "execution_count": 76,
     "metadata": {},
     "output_type": "execute_result"
    }
   ],
   "source": [
    "dir(tom)"
   ]
  },
  {
   "cell_type": "code",
   "execution_count": 77,
   "id": "56da1f37",
   "metadata": {},
   "outputs": [
    {
     "data": {
      "text/plain": [
       "{'query': 'QC FORM', 'name': 'TOM', 'mob': 'QC FORM', 'country': 'India'}"
      ]
     },
     "execution_count": 77,
     "metadata": {},
     "output_type": "execute_result"
    }
   ],
   "source": [
    "tom.__dict__"
   ]
  }
 ],
 "metadata": {
  "kernelspec": {
   "display_name": "Python 3 (ipykernel)",
   "language": "python",
   "name": "python3"
  },
  "language_info": {
   "codemirror_mode": {
    "name": "ipython",
    "version": 3
   },
   "file_extension": ".py",
   "mimetype": "text/x-python",
   "name": "python",
   "nbconvert_exporter": "python",
   "pygments_lexer": "ipython3",
   "version": "3.10.8"
  }
 },
 "nbformat": 4,
 "nbformat_minor": 5
}
