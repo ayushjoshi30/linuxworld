{
 "cells": [
  {
   "cell_type": "code",
   "execution_count": 2,
   "id": "adfdad90",
   "metadata": {},
   "outputs": [
    {
     "data": {
      "text/plain": [
       "True"
      ]
     },
     "execution_count": 2,
     "metadata": {},
     "output_type": "execute_result"
    }
   ],
   "source": [
    "names=[\"ayush\",\"divyanshu\",\"raj\",\"krish\"]\n",
    "\"ayush\" in names"
   ]
  },
  {
   "cell_type": "code",
   "execution_count": 4,
   "id": "cc1cecb2",
   "metadata": {},
   "outputs": [
    {
     "name": "stdout",
     "output_type": "stream",
     "text": [
      "tasks for u \n"
     ]
    }
   ],
   "source": [
    "if \"ayush\" in names:\n",
    "    print(\"tasks for u \")\n",
    "else:\n",
    "    print(\"no task\")"
   ]
  },
  {
   "cell_type": "markdown",
   "id": "6fceef1f",
   "metadata": {},
   "source": [
    "# FILE HANDLING\n"
   ]
  },
  {
   "cell_type": "code",
   "execution_count": 51,
   "id": "8043058a",
   "metadata": {},
   "outputs": [],
   "source": [
    "myfile=open(\"linuxworld\",mode=\"r\")\n"
   ]
  },
  {
   "cell_type": "code",
   "execution_count": 52,
   "id": "6fc564a4",
   "metadata": {},
   "outputs": [
    {
     "data": {
      "text/plain": [
       "0"
      ]
     },
     "execution_count": 52,
     "metadata": {},
     "output_type": "execute_result"
    }
   ],
   "source": [
    "myfile.tell() #will tell the index of the reading process ,0= just started"
   ]
  },
  {
   "cell_type": "code",
   "execution_count": 53,
   "id": "f0a3db4e",
   "metadata": {},
   "outputs": [
    {
     "data": {
      "text/plain": [
       "58"
      ]
     },
     "execution_count": 53,
     "metadata": {},
     "output_type": "execute_result"
    }
   ],
   "source": [
    "#data=myfile.read(4)  take me to the 4th characted in a file \n",
    "data=myfile.read()\n",
    "myfile.tell() #now the file has been read so its at the end of the file and there are 58 characters"
   ]
  },
  {
   "cell_type": "code",
   "execution_count": 54,
   "id": "955f316f",
   "metadata": {},
   "outputs": [
    {
     "data": {
      "text/plain": [
       "'first line\\nsecod line\\nthird line \\nfourth linbe\\nfifth line\\n'"
      ]
     },
     "execution_count": 54,
     "metadata": {},
     "output_type": "execute_result"
    }
   ],
   "source": [
    "data"
   ]
  },
  {
   "cell_type": "code",
   "execution_count": 55,
   "id": "2f565ab5",
   "metadata": {},
   "outputs": [
    {
     "name": "stdout",
     "output_type": "stream",
     "text": [
      "first line\n",
      "secod line\n",
      "third line \n",
      "fourth linbe\n",
      "fifth line\n",
      "\n"
     ]
    }
   ],
   "source": [
    "print(data)"
   ]
  },
  {
   "cell_type": "code",
   "execution_count": 58,
   "id": "ab30bf1b",
   "metadata": {},
   "outputs": [],
   "source": [
    "myfile.close()"
   ]
  },
  {
   "cell_type": "code",
   "execution_count": null,
   "id": "2bdfb2a5",
   "metadata": {},
   "outputs": [],
   "source": []
  }
 ],
 "metadata": {
  "kernelspec": {
   "display_name": "Python 3 (ipykernel)",
   "language": "python",
   "name": "python3"
  },
  "language_info": {
   "codemirror_mode": {
    "name": "ipython",
    "version": 3
   },
   "file_extension": ".py",
   "mimetype": "text/x-python",
   "name": "python",
   "nbconvert_exporter": "python",
   "pygments_lexer": "ipython3",
   "version": "3.10.8"
  }
 },
 "nbformat": 4,
 "nbformat_minor": 5
}
