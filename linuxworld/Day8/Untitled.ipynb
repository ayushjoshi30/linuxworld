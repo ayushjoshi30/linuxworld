{
 "cells": [
  {
   "cell_type": "code",
   "execution_count": 28,
   "id": "b8ffebfc",
   "metadata": {},
   "outputs": [],
   "source": [
    "import cv2"
   ]
  },
  {
   "cell_type": "code",
   "execution_count": 29,
   "id": "0af15010",
   "metadata": {},
   "outputs": [],
   "source": [
    "cap=cv2.VideoCapture(0)"
   ]
  },
  {
   "cell_type": "code",
   "execution_count": 30,
   "id": "2d79a070",
   "metadata": {},
   "outputs": [],
   "source": [
    "status,photo=cap.read()\n"
   ]
  },
  {
   "cell_type": "code",
   "execution_count": 31,
   "id": "ca6748e2",
   "metadata": {},
   "outputs": [],
   "source": [
    "cv2.imshow('hi',photo)\n",
    "cv2.waitKey(10000)\n",
    "cv2.destroyAllWindows()"
   ]
  },
  {
   "cell_type": "code",
   "execution_count": 32,
   "id": "36473083",
   "metadata": {},
   "outputs": [],
   "source": [
    "facemodel=cv2.CascadeClassifier(\"harras.xml\")"
   ]
  },
  {
   "cell_type": "code",
   "execution_count": 20,
   "id": "0e166c09",
   "metadata": {},
   "outputs": [
    {
     "data": {
      "text/plain": [
       "array([[301, 241, 113, 113]])"
      ]
     },
     "execution_count": 20,
     "metadata": {},
     "output_type": "execute_result"
    }
   ],
   "source": [
    "facemodel.detectMultiScale(photo)"
   ]
  },
  {
   "cell_type": "code",
   "execution_count": 21,
   "id": "a7c15dc1",
   "metadata": {},
   "outputs": [],
   "source": [
    "vb=photo[327:108, 278:108]\n",
    "      "
   ]
  },
  {
   "cell_type": "code",
   "execution_count": 22,
   "id": "ac677e3f",
   "metadata": {},
   "outputs": [
    {
     "ename": "error",
     "evalue": "OpenCV(4.7.0) D:\\a\\opencv-python\\opencv-python\\opencv\\modules\\highgui\\src\\window.cpp:971: error: (-215:Assertion failed) size.width>0 && size.height>0 in function 'cv::imshow'\n",
     "output_type": "error",
     "traceback": [
      "\u001b[1;31m---------------------------------------------------------------------------\u001b[0m",
      "\u001b[1;31merror\u001b[0m                                     Traceback (most recent call last)",
      "Cell \u001b[1;32mIn [22], line 1\u001b[0m\n\u001b[1;32m----> 1\u001b[0m \u001b[43mcv2\u001b[49m\u001b[38;5;241;43m.\u001b[39;49m\u001b[43mimshow\u001b[49m\u001b[43m(\u001b[49m\u001b[38;5;124;43m'\u001b[39;49m\u001b[38;5;124;43mhi\u001b[39;49m\u001b[38;5;124;43m'\u001b[39;49m\u001b[43m,\u001b[49m\u001b[43mvb\u001b[49m\u001b[43m)\u001b[49m\n\u001b[0;32m      2\u001b[0m cv2\u001b[38;5;241m.\u001b[39mwaitKey(\u001b[38;5;241m10000\u001b[39m)\n\u001b[0;32m      3\u001b[0m cv2\u001b[38;5;241m.\u001b[39mdestroyAllWindows()\n",
      "\u001b[1;31merror\u001b[0m: OpenCV(4.7.0) D:\\a\\opencv-python\\opencv-python\\opencv\\modules\\highgui\\src\\window.cpp:971: error: (-215:Assertion failed) size.width>0 && size.height>0 in function 'cv::imshow'\n"
     ]
    }
   ],
   "source": [
    "cv2.imshow('hi',vb)\n",
    "cv2.waitKey(10000)\n",
    "cv2.destroyAllWindows()"
   ]
  },
  {
   "cell_type": "code",
   "execution_count": null,
   "id": "2e57c994",
   "metadata": {},
   "outputs": [],
   "source": []
  }
 ],
 "metadata": {
  "kernelspec": {
   "display_name": "Python 3 (ipykernel)",
   "language": "python",
   "name": "python3"
  },
  "language_info": {
   "codemirror_mode": {
    "name": "ipython",
    "version": 3
   },
   "file_extension": ".py",
   "mimetype": "text/x-python",
   "name": "python",
   "nbconvert_exporter": "python",
   "pygments_lexer": "ipython3",
   "version": "3.10.8"
  }
 },
 "nbformat": 4,
 "nbformat_minor": 5
}
