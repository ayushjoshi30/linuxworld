{
 "cells": [
  {
   "cell_type": "markdown",
   "id": "fde7a9e3",
   "metadata": {},
   "source": [
    "   #         Object Oriented Programming\n"
   ]
  },
  {
   "cell_type": "code",
   "execution_count": 1,
   "id": "972f5b40",
   "metadata": {},
   "outputs": [],
   "source": [
    "class SummerForm:\n",
    "    name=None\n",
    "    whatsapp=None\n",
    "    query=None"
   ]
  },
  {
   "cell_type": "code",
   "execution_count": 2,
   "id": "9599b07b",
   "metadata": {},
   "outputs": [],
   "source": [
    "class JobForm:\n",
    "    name=None\n",
    "    email=None\n",
    "    Exp=None"
   ]
  },
  {
   "cell_type": "code",
   "execution_count": 17,
   "id": "1412e740",
   "metadata": {},
   "outputs": [],
   "source": [
    "rahul=SummerForm()"
   ]
  },
  {
   "cell_type": "code",
   "execution_count": 18,
   "id": "a2ab8d7b",
   "metadata": {},
   "outputs": [],
   "source": [
    "rahul.name=\"rahul kumar\""
   ]
  },
  {
   "cell_type": "code",
   "execution_count": 19,
   "id": "891be3db",
   "metadata": {},
   "outputs": [],
   "source": [
    "rahul.whatsapp=98292"
   ]
  },
  {
   "cell_type": "code",
   "execution_count": 20,
   "id": "901917e1",
   "metadata": {},
   "outputs": [],
   "source": [
    "rahul.query=\"How to join summer internship\""
   ]
  },
  {
   "cell_type": "code",
   "execution_count": 27,
   "id": "9f6dc24b",
   "metadata": {},
   "outputs": [
    {
     "data": {
      "text/plain": [
       "'rahul kumar'"
      ]
     },
     "execution_count": 27,
     "metadata": {},
     "output_type": "execute_result"
    }
   ],
   "source": [
    "rahul.name"
   ]
  },
  {
   "cell_type": "code",
   "execution_count": 25,
   "id": "e942da3a",
   "metadata": {},
   "outputs": [
    {
     "data": {
      "text/plain": [
       "98292"
      ]
     },
     "execution_count": 25,
     "metadata": {},
     "output_type": "execute_result"
    }
   ],
   "source": [
    "rahul.whatsapp"
   ]
  },
  {
   "cell_type": "code",
   "execution_count": 26,
   "id": "1b94c276",
   "metadata": {},
   "outputs": [
    {
     "data": {
      "text/plain": [
       "'How to join summer internship'"
      ]
     },
     "execution_count": 26,
     "metadata": {},
     "output_type": "execute_result"
    }
   ],
   "source": [
    "rahul.query"
   ]
  },
  {
   "cell_type": "code",
   "execution_count": 28,
   "id": "5d90873e",
   "metadata": {},
   "outputs": [
    {
     "data": {
      "text/plain": [
       "{'name': 'rahul kumar',\n",
       " 'whatsapp': 98292,\n",
       " 'query': 'How to join summer internship'}"
      ]
     },
     "execution_count": 28,
     "metadata": {},
     "output_type": "execute_result"
    }
   ],
   "source": [
    "rahul.__dict__"
   ]
  },
  {
   "cell_type": "markdown",
   "id": "170e96d0",
   "metadata": {},
   "source": [
    "# Accesss Modifier"
   ]
  },
  {
   "cell_type": "code",
   "execution_count": 57,
   "id": "0b1430a8",
   "metadata": {},
   "outputs": [],
   "source": [
    "class SummerForm2:\n",
    "    name=None\n",
    "    whatsapp=None\n",
    "    query=None\n",
    "    \n",
    "    def setname(self,n):#self is used to store the memory address of the object so tht thers no argumental error\n",
    "        self.name=n #self is used so that the name gets saved in this memory itself\n",
    "    def setwhatsapp(self,w):\n",
    "        self.whatsapp=w\n",
    "    def getname(self):\n",
    "        print(self.name)"
   ]
  },
  {
   "cell_type": "code",
   "execution_count": 58,
   "id": "1164b8d3",
   "metadata": {},
   "outputs": [],
   "source": [
    "rahul=SummerForm2()\n"
   ]
  },
  {
   "cell_type": "code",
   "execution_count": 59,
   "id": "7a62b375",
   "metadata": {},
   "outputs": [],
   "source": [
    "rahul.setname(\"Rahul Kumar\")"
   ]
  },
  {
   "cell_type": "code",
   "execution_count": 60,
   "id": "693dbf49",
   "metadata": {},
   "outputs": [
    {
     "data": {
      "text/plain": [
       "{'name': 'Rahul Kumar'}"
      ]
     },
     "execution_count": 60,
     "metadata": {},
     "output_type": "execute_result"
    }
   ],
   "source": [
    "rahul.__dict__"
   ]
  },
  {
   "cell_type": "code",
   "execution_count": 61,
   "id": "4204982f",
   "metadata": {},
   "outputs": [
    {
     "name": "stdout",
     "output_type": "stream",
     "text": [
      "Rahul Kumar\n"
     ]
    }
   ],
   "source": [
    "rahul.getname()"
   ]
  },
  {
   "cell_type": "code",
   "execution_count": null,
   "id": "7024f738",
   "metadata": {},
   "outputs": [],
   "source": []
  },
  {
   "cell_type": "code",
   "execution_count": null,
   "id": "fc192b03",
   "metadata": {},
   "outputs": [],
   "source": []
  },
  {
   "cell_type": "code",
   "execution_count": null,
   "id": "54c3b853",
   "metadata": {},
   "outputs": [],
   "source": []
  },
  {
   "cell_type": "markdown",
   "id": "948698d2",
   "metadata": {},
   "source": []
  }
 ],
 "metadata": {
  "kernelspec": {
   "display_name": "Python 3 (ipykernel)",
   "language": "python",
   "name": "python3"
  },
  "language_info": {
   "codemirror_mode": {
    "name": "ipython",
    "version": 3
   },
   "file_extension": ".py",
   "mimetype": "text/x-python",
   "name": "python",
   "nbconvert_exporter": "python",
   "pygments_lexer": "ipython3",
   "version": "3.10.8"
  }
 },
 "nbformat": 4,
 "nbformat_minor": 5
}
