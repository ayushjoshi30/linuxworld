{
 "cells": [
  {
   "cell_type": "code",
   "execution_count": null,
   "id": "fad59f03",
   "metadata": {},
   "outputs": [],
   "source": [
    "# db = [['kash', 111, 'ok'],['anand', 222, 'good'],['deepesh', 333, 'good'],['rohit', 111, 'ok']]"
   ]
  },
  {
   "cell_type": "code",
   "execution_count": null,
   "id": "54a9bd81",
   "metadata": {},
   "outputs": [],
   "source": [
    "# a = numpy.array(db)"
   ]
  },
  {
   "cell_type": "code",
   "execution_count": null,
   "id": "cbcd49e5",
   "metadata": {},
   "outputs": [],
   "source": [
    "# a[1:3, 1:3]"
   ]
  },
  {
   "cell_type": "code",
   "execution_count": null,
   "id": "f0d9c612",
   "metadata": {},
   "outputs": [],
   "source": []
  },
  {
   "cell_type": "code",
   "execution_count": null,
   "id": "4c63564b",
   "metadata": {},
   "outputs": [],
   "source": []
  },
  {
   "cell_type": "code",
   "execution_count": null,
   "id": "1cdc1281",
   "metadata": {},
   "outputs": [],
   "source": []
  },
  {
   "cell_type": "code",
   "execution_count": null,
   "id": "18f732ba",
   "metadata": {},
   "outputs": [],
   "source": [
    "# db[0]"
   ]
  },
  {
   "cell_type": "code",
   "execution_count": null,
   "id": "a53462d0",
   "metadata": {},
   "outputs": [],
   "source": [
    "# db[2][1]"
   ]
  },
  {
   "cell_type": "code",
   "execution_count": null,
   "id": "3c46e824",
   "metadata": {},
   "outputs": [],
   "source": [
    "# cap = cv2.VideoCapture(0)"
   ]
  },
  {
   "cell_type": "code",
   "execution_count": null,
   "id": "4b3b63da",
   "metadata": {},
   "outputs": [],
   "source": [
    "# status, photo = cap.read()"
   ]
  },
  {
   "cell_type": "code",
   "execution_count": null,
   "id": "f095fec9",
   "metadata": {},
   "outputs": [],
   "source": [
    "# status"
   ]
  },
  {
   "cell_type": "code",
   "execution_count": null,
   "id": "3dbcb260",
   "metadata": {},
   "outputs": [],
   "source": [
    "# cv2.imwrite(\"kash.png\", photo)"
   ]
  },
  {
   "cell_type": "code",
   "execution_count": null,
   "id": "40a6ed87",
   "metadata": {},
   "outputs": [],
   "source": [
    "# photo.shape"
   ]
  },
  {
   "cell_type": "code",
   "execution_count": null,
   "id": "54ba2c75",
   "metadata": {},
   "outputs": [],
   "source": [
    "# crop1 = photo[100:300, 100:300]"
   ]
  },
  {
   "cell_type": "code",
   "execution_count": null,
   "id": "c46ef7c5",
   "metadata": {},
   "outputs": [],
   "source": [
    "# cv2.imwrite(\"crop.png\", crop1)"
   ]
  },
  {
   "cell_type": "code",
   "execution_count": null,
   "id": "1a8e4815",
   "metadata": {},
   "outputs": [],
   "source": [
    "# cv2.imshow(\"photo\", photo)\n",
    "# cv2.waitKey(10000)\n",
    "# cv2.destroyAllWindows()"
   ]
  },
  {
   "cell_type": "code",
   "execution_count": null,
   "id": "ce0f9326",
   "metadata": {},
   "outputs": [],
   "source": []
  },
  {
   "cell_type": "code",
   "execution_count": null,
   "id": "71557afe",
   "metadata": {},
   "outputs": [],
   "source": [
    "# while True:\n",
    "#     status, photo = cap.read()\n",
    "#     cv2.imshow(\"photo\", photo)\n",
    "#     if cv2.waitKey(10) == 13:\n",
    "#         break\n",
    "\n",
    "# cv2.destroyAllWindows()"
   ]
  },
  {
   "cell_type": "code",
   "execution_count": null,
   "id": "e513c2a0",
   "metadata": {},
   "outputs": [],
   "source": [
    "# cap.release()"
   ]
  },
  {
   "cell_type": "code",
   "execution_count": 1,
   "id": "72fbf40b",
   "metadata": {},
   "outputs": [],
   "source": [
    "import numpy\n",
    "import cv2"
   ]
  },
  {
   "cell_type": "code",
   "execution_count": null,
   "id": "04d26fd1",
   "metadata": {},
   "outputs": [],
   "source": [
    "# from cvzone.HandTrackingModule import HandDetector\n",
    "# detector = HandDetector(maxHands = 1)\n",
    "\n",
    "# status, photo = cap.read()\n",
    "\n",
    "# hand = detector.findHands(photo, draw=False)\n",
    "\n",
    "# if hand:\n",
    "#     lmlist= hand[0]\n",
    "#     print(detector.fingersUp(lmlist))"
   ]
  },
  {
   "cell_type": "code",
   "execution_count": null,
   "id": "06eedb2f",
   "metadata": {},
   "outputs": [],
   "source": []
  },
  {
   "cell_type": "code",
   "execution_count": 2,
   "id": "b10a0b4a",
   "metadata": {},
   "outputs": [],
   "source": [
    "import cv2\n",
    "cap = cv2.VideoCapture(0)"
   ]
  },
  {
   "cell_type": "code",
   "execution_count": 3,
   "id": "3762e0d2",
   "metadata": {},
   "outputs": [],
   "source": [
    "from cvzone.HandTrackingModule import HandDetector"
   ]
  },
  {
   "cell_type": "code",
   "execution_count": 4,
   "id": "05feb8dc",
   "metadata": {},
   "outputs": [],
   "source": [
    "detector = HandDetector(maxHands = 1)"
   ]
  },
  {
   "cell_type": "code",
   "execution_count": 5,
   "id": "09e883b9",
   "metadata": {},
   "outputs": [],
   "source": [
    "status, photo = cap.read()"
   ]
  },
  {
   "cell_type": "code",
   "execution_count": 6,
   "id": "ea7f0340",
   "metadata": {},
   "outputs": [],
   "source": [
    "fphoto = detector.findHands(photo)"
   ]
  },
  {
   "cell_type": "code",
   "execution_count": 7,
   "id": "69e90c75",
   "metadata": {},
   "outputs": [
    {
     "name": "stdout",
     "output_type": "stream",
     "text": [
      "-1\n"
     ]
    }
   ],
   "source": [
    "cv2.imshow(\"my photo\", photo)\n",
    "print(cv2.waitKey())\n",
    "cv2.destroyAllWindows()"
   ]
  },
  {
   "cell_type": "code",
   "execution_count": null,
   "id": "907e9313",
   "metadata": {},
   "outputs": [],
   "source": [
    "cap.release()"
   ]
  },
  {
   "cell_type": "code",
   "execution_count": null,
   "id": "5e64c4c4",
   "metadata": {},
   "outputs": [],
   "source": []
  },
  {
   "cell_type": "code",
   "execution_count": null,
   "id": "74a48f84",
   "metadata": {},
   "outputs": [],
   "source": []
  },
  {
   "cell_type": "code",
   "execution_count": null,
   "id": "7862d5c8",
   "metadata": {},
   "outputs": [],
   "source": []
  },
  {
   "cell_type": "code",
   "execution_count": null,
   "id": "74a44003",
   "metadata": {},
   "outputs": [],
   "source": []
  }
 ],
 "metadata": {
  "kernelspec": {
   "display_name": "Python 3",
   "language": "python",
   "name": "python3"
  },
  "language_info": {
   "codemirror_mode": {
    "name": "ipython",
    "version": 3
   },
   "file_extension": ".py",
   "mimetype": "text/x-python",
   "name": "python",
   "nbconvert_exporter": "python",
   "pygments_lexer": "ipython3",
   "version": "3.8.8"
  }
 },
 "nbformat": 4,
 "nbformat_minor": 5
}
