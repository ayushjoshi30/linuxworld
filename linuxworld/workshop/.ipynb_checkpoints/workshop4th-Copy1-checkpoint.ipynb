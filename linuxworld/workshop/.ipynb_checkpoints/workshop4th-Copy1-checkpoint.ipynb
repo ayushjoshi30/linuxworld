{
 "cells": [
  {
   "cell_type": "code",
   "execution_count": null,
   "id": "01d6097c",
   "metadata": {},
   "outputs": [],
   "source": [
    "5 + 2"
   ]
  },
  {
   "cell_type": "code",
   "execution_count": null,
   "id": "102baa4f",
   "metadata": {},
   "outputs": [],
   "source": [
    "print(\"vimal\")"
   ]
  },
  {
   "cell_type": "code",
   "execution_count": null,
   "id": "e67461e5",
   "metadata": {},
   "outputs": [],
   "source": [
    "x = 5"
   ]
  },
  {
   "cell_type": "code",
   "execution_count": null,
   "id": "73842b72",
   "metadata": {},
   "outputs": [],
   "source": [
    "print(x)"
   ]
  },
  {
   "cell_type": "code",
   "execution_count": null,
   "id": "8bd407b5",
   "metadata": {},
   "outputs": [],
   "source": [
    "x  = 10"
   ]
  },
  {
   "cell_type": "code",
   "execution_count": null,
   "id": "abb2a8ee",
   "metadata": {},
   "outputs": [],
   "source": [
    "print(x)"
   ]
  },
  {
   "cell_type": "code",
   "execution_count": null,
   "id": "c4b74c29",
   "metadata": {},
   "outputs": [],
   "source": [
    "y = [ 5, 10, 20, 30 ] "
   ]
  },
  {
   "cell_type": "code",
   "execution_count": null,
   "id": "aecdfaa7",
   "metadata": {},
   "outputs": [],
   "source": [
    "print(y)"
   ]
  },
  {
   "cell_type": "code",
   "execution_count": null,
   "id": "eb10b20d",
   "metadata": {},
   "outputs": [],
   "source": [
    "system(\"chrome\")"
   ]
  },
  {
   "cell_type": "code",
   "execution_count": null,
   "id": "1f48d7b2",
   "metadata": {},
   "outputs": [],
   "source": [
    "system(\"date /t\")"
   ]
  },
  {
   "cell_type": "code",
   "execution_count": null,
   "id": "4ecaf7c2",
   "metadata": {},
   "outputs": [],
   "source": [
    "import os"
   ]
  },
  {
   "cell_type": "code",
   "execution_count": null,
   "id": "595b235a",
   "metadata": {},
   "outputs": [],
   "source": [
    "os.system(\"chrome\")"
   ]
  },
  {
   "cell_type": "code",
   "execution_count": null,
   "id": "bf93017b",
   "metadata": {},
   "outputs": [],
   "source": [
    "print(\"vimal\")"
   ]
  },
  {
   "cell_type": "code",
   "execution_count": null,
   "id": "7f3a2cfe",
   "metadata": {},
   "outputs": [],
   "source": [
    " names = [  \"vimal\" , \"pop\", \"eric\", \"rahul\" ]"
   ]
  },
  {
   "cell_type": "code",
   "execution_count": null,
   "id": "9b45a01d",
   "metadata": {},
   "outputs": [],
   "source": [
    "names"
   ]
  },
  {
   "cell_type": "code",
   "execution_count": null,
   "id": "a7774adb",
   "metadata": {},
   "outputs": [],
   "source": [
    "names[2]"
   ]
  },
  {
   "cell_type": "code",
   "execution_count": null,
   "id": "87451d9d",
   "metadata": {},
   "outputs": [],
   "source": [
    "names[0:3]"
   ]
  },
  {
   "cell_type": "code",
   "execution_count": null,
   "id": "8bf291d4",
   "metadata": {},
   "outputs": [],
   "source": [
    "names[1:3]"
   ]
  },
  {
   "cell_type": "code",
   "execution_count": null,
   "id": "f6be63ae",
   "metadata": {},
   "outputs": [],
   "source": [
    "names"
   ]
  },
  {
   "cell_type": "code",
   "execution_count": null,
   "id": "d6e7b416",
   "metadata": {},
   "outputs": [],
   "source": [
    "names[2:]"
   ]
  },
  {
   "cell_type": "code",
   "execution_count": null,
   "id": "103945aa",
   "metadata": {},
   "outputs": [],
   "source": [
    "names[:3]"
   ]
  },
  {
   "cell_type": "code",
   "execution_count": null,
   "id": "0865db05",
   "metadata": {},
   "outputs": [],
   "source": [
    "names[:]"
   ]
  },
  {
   "cell_type": "code",
   "execution_count": null,
   "id": "cd6b78ec",
   "metadata": {},
   "outputs": [],
   "source": [
    "names"
   ]
  },
  {
   "cell_type": "code",
   "execution_count": null,
   "id": "dbcf0eee",
   "metadata": {},
   "outputs": [],
   "source": [
    "db =  [ [ \"vimal\" , 111, \"ok\" ] , [\"rahul\", 2222, \"good\"] , [\"eric\", 3333, \"ok\"], [\"tom\" , 44444, \"ok\"] ] "
   ]
  },
  {
   "cell_type": "code",
   "execution_count": null,
   "id": "503cb44b",
   "metadata": {},
   "outputs": [],
   "source": [
    "db"
   ]
  },
  {
   "cell_type": "code",
   "execution_count": null,
   "id": "d1d717b4",
   "metadata": {},
   "outputs": [],
   "source": [
    "db[0]"
   ]
  },
  {
   "cell_type": "code",
   "execution_count": null,
   "id": "aa130f7f",
   "metadata": {},
   "outputs": [],
   "source": [
    "db[2]"
   ]
  },
  {
   "cell_type": "code",
   "execution_count": null,
   "id": "c227c201",
   "metadata": {},
   "outputs": [],
   "source": [
    "db[2:4]"
   ]
  },
  {
   "cell_type": "code",
   "execution_count": null,
   "id": "5e2b3794",
   "metadata": {},
   "outputs": [],
   "source": [
    "db[1][2]"
   ]
  },
  {
   "cell_type": "code",
   "execution_count": null,
   "id": "a7fb1376",
   "metadata": {},
   "outputs": [],
   "source": [
    "db =  [ [ \"vimal\" , 111, \"ok\" ] , [\"rahul\", 2222, \"good\"] , [\"eric\", 3333, \"ok\"], [\"tom\" , 44444, \"ok\"] ] "
   ]
  },
  {
   "cell_type": "code",
   "execution_count": null,
   "id": "82251904",
   "metadata": {},
   "outputs": [],
   "source": [
    "array(db)"
   ]
  },
  {
   "cell_type": "code",
   "execution_count": null,
   "id": "4ffa5ee2",
   "metadata": {},
   "outputs": [],
   "source": [
    "import numpy"
   ]
  },
  {
   "cell_type": "code",
   "execution_count": null,
   "id": "cbaa5cdc",
   "metadata": {},
   "outputs": [],
   "source": [
    "b = numpy.array(db)"
   ]
  },
  {
   "cell_type": "code",
   "execution_count": null,
   "id": "182bf20c",
   "metadata": {},
   "outputs": [],
   "source": [
    "b[: , 2]"
   ]
  },
  {
   "cell_type": "code",
   "execution_count": null,
   "id": "49c3e7ac",
   "metadata": {},
   "outputs": [],
   "source": [
    "b[1:3 , 1:3]"
   ]
  },
  {
   "cell_type": "code",
   "execution_count": null,
   "id": "2adb1d00",
   "metadata": {},
   "outputs": [],
   "source": [
    "b"
   ]
  },
  {
   "cell_type": "code",
   "execution_count": null,
   "id": "01dd7c7b",
   "metadata": {},
   "outputs": [],
   "source": [
    "b.shape"
   ]
  },
  {
   "cell_type": "code",
   "execution_count": null,
   "id": "5c940363",
   "metadata": {},
   "outputs": [],
   "source": []
  },
  {
   "cell_type": "code",
   "execution_count": null,
   "id": "8ab78091",
   "metadata": {},
   "outputs": [],
   "source": []
  },
  {
   "cell_type": "code",
   "execution_count": null,
   "id": "c1bfc4b0",
   "metadata": {},
   "outputs": [],
   "source": []
  },
  {
   "cell_type": "code",
   "execution_count": null,
   "id": "363a35f8",
   "metadata": {},
   "outputs": [],
   "source": []
  },
  {
   "cell_type": "code",
   "execution_count": null,
   "id": "bd7dd8f3",
   "metadata": {},
   "outputs": [],
   "source": [
    "status , photo = cap.read()"
   ]
  },
  {
   "cell_type": "code",
   "execution_count": null,
   "id": "e25f4e4c",
   "metadata": {},
   "outputs": [],
   "source": [
    "status"
   ]
  },
  {
   "cell_type": "code",
   "execution_count": null,
   "id": "b23af18e",
   "metadata": {},
   "outputs": [],
   "source": [
    "cv2.imwrite(\"vimal.png\" , photo)"
   ]
  },
  {
   "cell_type": "code",
   "execution_count": null,
   "id": "ef8ad287",
   "metadata": {},
   "outputs": [],
   "source": [
    "photo.shape"
   ]
  },
  {
   "cell_type": "code",
   "execution_count": null,
   "id": "97af4ede",
   "metadata": {},
   "outputs": [],
   "source": [
    "crop1 = photo[100:300, 200:500]"
   ]
  },
  {
   "cell_type": "code",
   "execution_count": null,
   "id": "b7f0240a",
   "metadata": {},
   "outputs": [],
   "source": [
    "cv2.imwrite(\"crop.png\", crop1)"
   ]
  },
  {
   "cell_type": "code",
   "execution_count": null,
   "id": "7c0f4e6f",
   "metadata": {},
   "outputs": [],
   "source": [
    "cv2.imshow(\"my photo\" , photo)\n",
    "print ( cv2.waitKey() )\n",
    "cv2.destroyAllWindows()\n"
   ]
  },
  {
   "cell_type": "code",
   "execution_count": 7,
   "id": "5869f29f",
   "metadata": {},
   "outputs": [],
   "source": [
    "import cv2\n",
    "cap  = cv2.VideoCapture(0)"
   ]
  },
  {
   "cell_type": "code",
   "execution_count": null,
   "id": "381e134e",
   "metadata": {},
   "outputs": [],
   "source": [
    "# shift + enter"
   ]
  },
  {
   "cell_type": "code",
   "execution_count": 4,
   "id": "b48bb517",
   "metadata": {
    "scrolled": true
   },
   "outputs": [],
   "source": [
    "while True:\n",
    "  status , photo = cap.read()\n",
    "  cv2.imshow(\"my photo\" , photo)\n",
    "  if cv2.waitKey(100) == 13:\n",
    "    break\n",
    "   \n",
    "cv2.destroyAllWindows()"
   ]
  },
  {
   "cell_type": "code",
   "execution_count": 5,
   "id": "6501a869",
   "metadata": {},
   "outputs": [],
   "source": [
    "cap.release()"
   ]
  },
  {
   "cell_type": "code",
   "execution_count": null,
   "id": "e4246ef0",
   "metadata": {},
   "outputs": [],
   "source": []
  }
 ],
 "metadata": {
  "kernelspec": {
   "display_name": "Python 3 (ipykernel)",
   "language": "python",
   "name": "python3"
  },
  "language_info": {
   "codemirror_mode": {
    "name": "ipython",
    "version": 3
   },
   "file_extension": ".py",
   "mimetype": "text/x-python",
   "name": "python",
   "nbconvert_exporter": "python",
   "pygments_lexer": "ipython3",
   "version": "3.10.9"
  }
 },
 "nbformat": 4,
 "nbformat_minor": 5
}
