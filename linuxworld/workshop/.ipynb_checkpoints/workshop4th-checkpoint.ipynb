{
 "cells": [
  {
   "cell_type": "code",
   "execution_count": null,
   "id": "87ce31d3",
   "metadata": {},
   "outputs": [],
   "source": [
    "5 + 2"
   ]
  },
  {
   "cell_type": "code",
   "execution_count": null,
   "id": "cd15e17c",
   "metadata": {},
   "outputs": [],
   "source": [
    "print(\"vimal\")"
   ]
  },
  {
   "cell_type": "code",
   "execution_count": null,
   "id": "8d154ebf",
   "metadata": {},
   "outputs": [],
   "source": [
    "x = 5"
   ]
  },
  {
   "cell_type": "code",
   "execution_count": null,
   "id": "73ff093e",
   "metadata": {},
   "outputs": [],
   "source": [
    "print(x)"
   ]
  },
  {
   "cell_type": "code",
   "execution_count": null,
   "id": "8d575913",
   "metadata": {},
   "outputs": [],
   "source": [
    "x  = 10"
   ]
  },
  {
   "cell_type": "code",
   "execution_count": null,
   "id": "142baa97",
   "metadata": {},
   "outputs": [],
   "source": [
    "print(x)"
   ]
  },
  {
   "cell_type": "code",
   "execution_count": null,
   "id": "f036a202",
   "metadata": {},
   "outputs": [],
   "source": [
    "y = [ 5, 10, 20, 30 ] "
   ]
  },
  {
   "cell_type": "code",
   "execution_count": null,
   "id": "b8e25a2a",
   "metadata": {},
   "outputs": [],
   "source": [
    "print(y)"
   ]
  },
  {
   "cell_type": "code",
   "execution_count": null,
   "id": "f56f8f68",
   "metadata": {},
   "outputs": [],
   "source": [
    "system(\"chrome\")"
   ]
  },
  {
   "cell_type": "code",
   "execution_count": null,
   "id": "8edc84ea",
   "metadata": {},
   "outputs": [],
   "source": [
    "system(\"date /t\")"
   ]
  },
  {
   "cell_type": "code",
   "execution_count": null,
   "id": "29a8f9d9",
   "metadata": {},
   "outputs": [],
   "source": [
    "import os"
   ]
  },
  {
   "cell_type": "code",
   "execution_count": null,
   "id": "c05b015c",
   "metadata": {},
   "outputs": [],
   "source": [
    "os.system(\"chrome\")"
   ]
  },
  {
   "cell_type": "code",
   "execution_count": null,
   "id": "bc2d0e91",
   "metadata": {},
   "outputs": [],
   "source": [
    "print(\"vimal\")"
   ]
  },
  {
   "cell_type": "code",
   "execution_count": null,
   "id": "a2bd8ae8",
   "metadata": {},
   "outputs": [],
   "source": [
    " names = [  \"vimal\" , \"pop\", \"eric\", \"rahul\" ]"
   ]
  },
  {
   "cell_type": "code",
   "execution_count": null,
   "id": "f84b83c2",
   "metadata": {},
   "outputs": [],
   "source": [
    "names"
   ]
  },
  {
   "cell_type": "code",
   "execution_count": null,
   "id": "9d084b89",
   "metadata": {},
   "outputs": [],
   "source": [
    "names[2]"
   ]
  },
  {
   "cell_type": "code",
   "execution_count": null,
   "id": "1878b573",
   "metadata": {},
   "outputs": [],
   "source": [
    "names[0:3]"
   ]
  },
  {
   "cell_type": "code",
   "execution_count": null,
   "id": "9f3f6252",
   "metadata": {},
   "outputs": [],
   "source": [
    "names[1:3]"
   ]
  },
  {
   "cell_type": "code",
   "execution_count": null,
   "id": "4af34469",
   "metadata": {},
   "outputs": [],
   "source": [
    "names"
   ]
  },
  {
   "cell_type": "code",
   "execution_count": null,
   "id": "79f0b339",
   "metadata": {},
   "outputs": [],
   "source": [
    "names[2:]"
   ]
  },
  {
   "cell_type": "code",
   "execution_count": null,
   "id": "24f37754",
   "metadata": {},
   "outputs": [],
   "source": [
    "names[:3]"
   ]
  },
  {
   "cell_type": "code",
   "execution_count": null,
   "id": "cf69bf4f",
   "metadata": {},
   "outputs": [],
   "source": [
    "names[:]"
   ]
  },
  {
   "cell_type": "code",
   "execution_count": null,
   "id": "eb789cc6",
   "metadata": {},
   "outputs": [],
   "source": [
    "names"
   ]
  },
  {
   "cell_type": "code",
   "execution_count": null,
   "id": "c2bc888f",
   "metadata": {},
   "outputs": [],
   "source": [
    "db =  [ [ \"vimal\" , 111, \"ok\" ] , [\"rahul\", 2222, \"good\"] , [\"eric\", 3333, \"ok\"], [\"tom\" , 44444, \"ok\"] ] "
   ]
  },
  {
   "cell_type": "code",
   "execution_count": null,
   "id": "fbd4c687",
   "metadata": {},
   "outputs": [],
   "source": [
    "db"
   ]
  },
  {
   "cell_type": "code",
   "execution_count": null,
   "id": "e5e2cd1c",
   "metadata": {},
   "outputs": [],
   "source": [
    "db[0]"
   ]
  },
  {
   "cell_type": "code",
   "execution_count": null,
   "id": "c9ff01b7",
   "metadata": {},
   "outputs": [],
   "source": [
    "db[2]"
   ]
  },
  {
   "cell_type": "code",
   "execution_count": null,
   "id": "760d9e81",
   "metadata": {},
   "outputs": [],
   "source": [
    "db[2:4]"
   ]
  },
  {
   "cell_type": "code",
   "execution_count": null,
   "id": "3813c77c",
   "metadata": {},
   "outputs": [],
   "source": [
    "db[1][2]"
   ]
  },
  {
   "cell_type": "code",
   "execution_count": null,
   "id": "c1ba71cc",
   "metadata": {},
   "outputs": [],
   "source": [
    "db =  [ [ \"vimal\" , 111, \"ok\" ] , [\"rahul\", 2222, \"good\"] , [\"eric\", 3333, \"ok\"], [\"tom\" , 44444, \"ok\"] ] "
   ]
  },
  {
   "cell_type": "code",
   "execution_count": null,
   "id": "73d43fc4",
   "metadata": {},
   "outputs": [],
   "source": [
    "array(db)"
   ]
  },
  {
   "cell_type": "code",
   "execution_count": null,
   "id": "572d0c5a",
   "metadata": {},
   "outputs": [],
   "source": [
    "import numpy"
   ]
  },
  {
   "cell_type": "code",
   "execution_count": null,
   "id": "ebcda8a1",
   "metadata": {},
   "outputs": [],
   "source": [
    "b = numpy.array(db)"
   ]
  },
  {
   "cell_type": "code",
   "execution_count": null,
   "id": "067ec684",
   "metadata": {},
   "outputs": [],
   "source": [
    "b[: , 2]"
   ]
  },
  {
   "cell_type": "code",
   "execution_count": null,
   "id": "27310852",
   "metadata": {},
   "outputs": [],
   "source": [
    "b[1:3 , 1:3]"
   ]
  },
  {
   "cell_type": "code",
   "execution_count": null,
   "id": "bd310a71",
   "metadata": {},
   "outputs": [],
   "source": [
    "b"
   ]
  },
  {
   "cell_type": "code",
   "execution_count": null,
   "id": "eb6810b9",
   "metadata": {},
   "outputs": [],
   "source": [
    "b.shape"
   ]
  },
  {
   "cell_type": "code",
   "execution_count": 3,
   "id": "4640d3ff",
   "metadata": {},
   "outputs": [],
   "source": [
    "import cv2\n"
   ]
  },
  {
   "cell_type": "code",
   "execution_count": null,
   "id": "267f1e3e",
   "metadata": {},
   "outputs": [],
   "source": [
    "cap= cv2.VideoCapture(0)"
   ]
  },
  {
   "cell_type": "code",
   "execution_count": null,
   "id": "0f8fb5c6",
   "metadata": {},
   "outputs": [],
   "source": []
  },
  {
   "cell_type": "code",
   "execution_count": null,
   "id": "164a5983",
   "metadata": {},
   "outputs": [],
   "source": []
  },
  {
   "cell_type": "code",
   "execution_count": 13,
   "id": "336406ea",
   "metadata": {},
   "outputs": [],
   "source": []
  },
  {
   "cell_type": "code",
   "execution_count": null,
   "id": "5ff326f6",
   "metadata": {},
   "outputs": [],
   "source": [
    "status"
   ]
  },
  {
   "cell_type": "code",
   "execution_count": null,
   "id": "bc00d437",
   "metadata": {},
   "outputs": [],
   "source": [
    "cv2.imwrite(\"vimal.png\" , photo)"
   ]
  },
  {
   "cell_type": "code",
   "execution_count": null,
   "id": "d3068ce3",
   "metadata": {},
   "outputs": [],
   "source": [
    "photo.shape"
   ]
  },
  {
   "cell_type": "code",
   "execution_count": null,
   "id": "59908301",
   "metadata": {},
   "outputs": [],
   "source": [
    "crop1 = photo[100:300, 200:500]"
   ]
  },
  {
   "cell_type": "code",
   "execution_count": null,
   "id": "4526bd82",
   "metadata": {},
   "outputs": [],
   "source": [
    "cv2.imwrite(\"crop.png\", crop1)"
   ]
  },
  {
   "cell_type": "code",
   "execution_count": 14,
   "id": "c534d570",
   "metadata": {},
   "outputs": [
    {
     "name": "stdout",
     "output_type": "stream",
     "text": [
      "13\n"
     ]
    }
   ],
   "source": [
    "status , photo = cap.read()\n",
    "cv2.imshow(\"my photo\" , photo)\n",
    "print ( cv2.waitKey() )\n",
    "cv2.destroyAllWindows()\n"
   ]
  },
  {
   "cell_type": "code",
   "execution_count": 7,
   "id": "9380d974",
   "metadata": {},
   "outputs": [],
   "source": [
    "import cv2\n",
    "cap  = cv2.VideoCapture(0)"
   ]
  },
  {
   "cell_type": "code",
   "execution_count": null,
   "id": "78cc4b4a",
   "metadata": {},
   "outputs": [],
   "source": [
    "# shift + enter"
   ]
  },
  {
   "cell_type": "code",
   "execution_count": 11,
   "id": "1ff8923b",
   "metadata": {
    "scrolled": true
   },
   "outputs": [],
   "source": [
    "while True:\n",
    "  status , photo = cap.read()\n",
    "  cv2.imshow(\"my photo\" , photo)\n",
    "  if cv2.waitKey(100) == 13:\n",
    "    break\n",
    "   \n",
    "cv2.destroyAllWindows()"
   ]
  },
  {
   "cell_type": "code",
   "execution_count": 5,
   "id": "dcf4d283",
   "metadata": {},
   "outputs": [],
   "source": [
    "cap.release()"
   ]
  },
  {
   "cell_type": "code",
   "execution_count": 9,
   "id": "b8415849",
   "metadata": {},
   "outputs": [],
   "source": []
  },
  {
   "cell_type": "code",
   "execution_count": 20,
   "id": "2597ac12",
   "metadata": {},
   "outputs": [],
   "source": []
  },
  {
   "cell_type": "code",
   "execution_count": 37,
   "id": "f8fae5be",
   "metadata": {},
   "outputs": [
    {
     "name": "stdout",
     "output_type": "stream",
     "text": [
      "13\n"
     ]
    }
   ],
   "source": [
    "\n"
   ]
  },
  {
   "cell_type": "code",
   "execution_count": 90,
   "id": "b4c67cf7",
   "metadata": {},
   "outputs": [],
   "source": [
    "allOS = []"
   ]
  },
  {
   "cell_type": "code",
   "execution_count": 99,
   "id": "09a31f6a",
   "metadata": {},
   "outputs": [
    {
     "data": {
      "text/plain": [
       "['i-0231664b5e5585e15', 'i-0070c08859fff8fb6', 'i-0454143cdea4e8efe']"
      ]
     },
     "execution_count": 99,
     "metadata": {},
     "output_type": "execute_result"
    }
   ],
   "source": [
    "allOS"
   ]
  },
  {
   "cell_type": "code",
   "execution_count": 76,
   "id": "7a7c41eb",
   "metadata": {},
   "outputs": [],
   "source": [
    "import cv2\n"
   ]
  },
  {
   "cell_type": "code",
   "execution_count": 77,
   "id": "6a1e29a9",
   "metadata": {},
   "outputs": [],
   "source": [
    "cap = cv2.VideoCapture(0)"
   ]
  },
  {
   "cell_type": "code",
   "execution_count": 31,
   "id": "2d1bb82f",
   "metadata": {},
   "outputs": [
    {
     "name": "stdout",
     "output_type": "stream",
     "text": [
      "13\n"
     ]
    }
   ],
   "source": [
    "cv2.imshow(\"my photo\" , photo)\n",
    "print ( cv2.waitKey() )\n",
    "cv2.destroyAllWindows()"
   ]
  },
  {
   "cell_type": "code",
   "execution_count": 109,
   "id": "edd7ea49",
   "metadata": {},
   "outputs": [
    {
     "name": "stdout",
     "output_type": "stream",
     "text": [
      "i know only 1 finger up, index finger\n",
      "total os:  0\n"
     ]
    }
   ],
   "source": [
    "# pip install cvzone\n",
    "# pip install mediapipe\n",
    "\n",
    "from cvzone.HandTrackingModule import HandDetector\n",
    "detector = HandDetector(maxHands=1)\n",
    "\n",
    "\n",
    "status , photo = cap.read()\n",
    "#cv2.imshow(\"my photo\" , photo)\n",
    "#print ( cv2.waitKey() )\n",
    "#cv2.destroyAllWindows()\n",
    "\n",
    "hand = detector.findHands(photo , draw=False)\n",
    "\n",
    "if hand:\n",
    "    lmlist = hand[0]\n",
    "    totalFinger = detector.fingersUp(lmlist)\n",
    "    if totalFinger == [0, 1, 1, 0, 0]:\n",
    "        print(\"i know 2 and 3 finger is up\")\n",
    "        myOSLaunch()\n",
    "    elif totalFinger == [0, 1, 0, 0, 0]:\n",
    "        print(\"i know only 1 finger up, index finger\")\n",
    "        osTerminate()\n",
    "    else:\n",
    "        print(\"i dont consider in my Do it with Attitiude\")\n"
   ]
  },
  {
   "cell_type": "code",
   "execution_count": 74,
   "id": "82a5a937",
   "metadata": {},
   "outputs": [],
   "source": [
    "cap.release()"
   ]
  },
  {
   "cell_type": "code",
   "execution_count": 64,
   "id": "7669248f",
   "metadata": {},
   "outputs": [],
   "source": [
    "import boto3"
   ]
  },
  {
   "cell_type": "code",
   "execution_count": 65,
   "id": "bb82c2c6",
   "metadata": {},
   "outputs": [],
   "source": [
    "ec2 = boto3.resource(\"ec2\")"
   ]
  },
  {
   "cell_type": "code",
   "execution_count": 96,
   "id": "f041c98d",
   "metadata": {},
   "outputs": [],
   "source": [
    "def myOSLaunch():\n",
    "    instances = ec2.create_instances(\n",
    "            ImageId=\"ami-0a2acf24c0d86e927\",\n",
    "            MinCount=1,\n",
    "            MaxCount=1,\n",
    "            InstanceType=\"t2.micro\",\n",
    "            SecurityGroupIds=[ \"sg-001319ebd08a4cadb\" ] \n",
    "        )\n",
    "    myid = instances[0].id\n",
    "    allOS.append(myid)\n",
    "    print( \"Total OS : \"  , len(allOS)  )\n",
    "    print(myid)\n",
    "    \n",
    "    "
   ]
  },
  {
   "cell_type": "code",
   "execution_count": 97,
   "id": "b94c2f06",
   "metadata": {},
   "outputs": [
    {
     "name": "stdout",
     "output_type": "stream",
     "text": [
      "Total OS :  2\n",
      "i-0070c08859fff8fb6\n"
     ]
    }
   ],
   "source": [
    "myOSLaunch()"
   ]
  },
  {
   "cell_type": "code",
   "execution_count": 81,
   "id": "a234623f",
   "metadata": {},
   "outputs": [],
   "source": [
    "names = [ \"vimal\", \"krish\"]"
   ]
  },
  {
   "cell_type": "code",
   "execution_count": 85,
   "id": "4bf78c71",
   "metadata": {},
   "outputs": [],
   "source": [
    "names.append(\"amit\")"
   ]
  },
  {
   "cell_type": "code",
   "execution_count": 87,
   "id": "ac172bb2",
   "metadata": {},
   "outputs": [
    {
     "data": {
      "text/plain": [
       "'amit'"
      ]
     },
     "execution_count": 87,
     "metadata": {},
     "output_type": "execute_result"
    }
   ],
   "source": [
    "names.pop()"
   ]
  },
  {
   "cell_type": "code",
   "execution_count": 88,
   "id": "651af11b",
   "metadata": {},
   "outputs": [
    {
     "data": {
      "text/plain": [
       "['vimal', 'krish', 'rahul']"
      ]
     },
     "execution_count": 88,
     "metadata": {},
     "output_type": "execute_result"
    }
   ],
   "source": [
    "names"
   ]
  },
  {
   "cell_type": "code",
   "execution_count": 100,
   "id": "84ca6a77",
   "metadata": {},
   "outputs": [
    {
     "data": {
      "text/plain": [
       "['i-0231664b5e5585e15', 'i-0070c08859fff8fb6', 'i-0454143cdea4e8efe']"
      ]
     },
     "execution_count": 100,
     "metadata": {},
     "output_type": "execute_result"
    }
   ],
   "source": [
    "allOS"
   ]
  },
  {
   "cell_type": "code",
   "execution_count": 103,
   "id": "df7b1ef4",
   "metadata": {},
   "outputs": [],
   "source": [
    "def osTerminate():\n",
    "    osdelete = allOS.pop()\n",
    "    ec2.instances.filter(InstanceIds=[osdelete]).terminate()\n",
    "    print(\"total os: \" , len(allOS))"
   ]
  },
  {
   "cell_type": "code",
   "execution_count": 104,
   "id": "cc28ecd3",
   "metadata": {},
   "outputs": [
    {
     "name": "stdout",
     "output_type": "stream",
     "text": [
      "total os:  1\n"
     ]
    }
   ],
   "source": [
    "osTerminate()"
   ]
  },
  {
   "cell_type": "code",
   "execution_count": 112,
   "id": "c54545d6",
   "metadata": {},
   "outputs": [
    {
     "name": "stdout",
     "output_type": "stream",
     "text": [
      "i dont consider in my Do it with Attitiude\n",
      "i know 2 and 3 finger is up\n",
      "Total OS :  1\n",
      "i-069ce463b4a688f67\n",
      "i know 2 and 3 finger is up\n",
      "Total OS :  2\n",
      "i-051d402cf53cdd2cb\n",
      "i know 2 and 3 finger is up\n",
      "Total OS :  3\n",
      "i-0bd031172f88ff2a2\n",
      "i dont consider in my Do it with Attitiude\n",
      "i know 2 and 3 finger is up\n",
      "Total OS :  4\n",
      "i-04a436b9316dadb8f\n",
      "i dont consider in my Do it with Attitiude\n",
      "i dont consider in my Do it with Attitiude\n",
      "i dont consider in my Do it with Attitiude\n",
      "i dont consider in my Do it with Attitiude\n",
      "i dont consider in my Do it with Attitiude\n",
      "i know only 1 finger up, index finger\n",
      "total os:  3\n",
      "i know only 1 finger up, index finger\n",
      "total os:  2\n",
      "i know only 1 finger up, index finger\n",
      "total os:  1\n",
      "i know only 1 finger up, index finger\n",
      "total os:  0\n"
     ]
    }
   ],
   "source": [
    "# pip install cvzone\n",
    "# pip install mediapipe\n",
    "\n",
    "from cvzone.HandTrackingModule import HandDetector\n",
    "detector = HandDetector(maxHands=1)\n",
    "\n",
    "while True:\n",
    "    status , photo = cap.read()\n",
    "    cv2.imshow(\"my photo\" , photo)\n",
    "    if cv2.waitKey(1000) == 13:\n",
    "        break\n",
    "#cv2.destroyAllWindows()\n",
    "\n",
    "    hand = detector.findHands(photo , draw=False)\n",
    "\n",
    "    if hand:\n",
    "        lmlist = hand[0]\n",
    "        totalFinger = detector.fingersUp(lmlist)\n",
    "        if totalFinger == [0, 1, 1, 0, 0]:\n",
    "            print(\"i know 2 and 3 finger is up\")\n",
    "            myOSLaunch()\n",
    "        elif totalFinger == [0, 1, 0, 0, 0]:\n",
    "            print(\"i know only 1 finger up, index finger\")\n",
    "            osTerminate()\n",
    "        else:\n",
    "            print(\"i dont consider in my Do it with Attitiude\")\n",
    "\n",
    "            \n",
    "cv2.destroyAllWindows()\n"
   ]
  },
  {
   "cell_type": "code",
   "execution_count": null,
   "id": "69a22c4f",
   "metadata": {},
   "outputs": [],
   "source": []
  }
 ],
 "metadata": {
  "kernelspec": {
   "display_name": "Python 3 (ipykernel)",
   "language": "python",
   "name": "python3"
  },
  "language_info": {
   "codemirror_mode": {
    "name": "ipython",
    "version": 3
   },
   "file_extension": ".py",
   "mimetype": "text/x-python",
   "name": "python",
   "nbconvert_exporter": "python",
   "pygments_lexer": "ipython3",
   "version": "3.9.12"
  }
 },
 "nbformat": 4,
 "nbformat_minor": 5
}
