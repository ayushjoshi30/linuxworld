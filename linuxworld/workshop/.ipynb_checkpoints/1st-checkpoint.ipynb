{
 "cells": [
  {
   "cell_type": "code",
   "execution_count": 4,
   "id": "3fb350a8",
   "metadata": {},
   "outputs": [
    {
     "data": {
      "text/plain": [
       "1"
      ]
     },
     "execution_count": 4,
     "metadata": {},
     "output_type": "execute_result"
    }
   ],
   "source": [
    "import os #calling modules\n",
    "os.system(\"chrome\") #chrome will open"
   ]
  },
  {
   "cell_type": "code",
   "execution_count": 9,
   "id": "6ba2ce3a",
   "metadata": {},
   "outputs": [
    {
     "data": {
      "text/plain": [
       "[['divyanshu', 2, 'ok'],\n",
       " ['aman', 3, 'ok'],\n",
       " ['chetan', 4, 'ok'],\n",
       " ['mohan', 6, 'good']]"
      ]
     },
     "execution_count": 9,
     "metadata": {},
     "output_type": "execute_result"
    }
   ],
   "source": [
    "db=[[\"divyanshu\",2,\"ok\"],[\"aman\",3,\"ok\"],[\"chetan\",4,\"ok\"],[\"mohan\",6,\"good\"]]\n",
    "db\n"
   ]
  },
  {
   "cell_type": "code",
   "execution_count": 23,
   "id": "1f1a8b24",
   "metadata": {},
   "outputs": [
    {
     "data": {
      "text/plain": [
       "array(['2', '3', '4', '6'], dtype='<U11')"
      ]
     },
     "execution_count": 23,
     "metadata": {},
     "output_type": "execute_result"
    }
   ],
   "source": [
    "import numpy\n",
    "b= numpy.array(db)\n",
    "b[:,1]  #column1 is printed that is not possible in list as it can only perform th row wise operation"
   ]
  },
  {
   "cell_type": "code",
   "execution_count": 24,
   "id": "57b4aad9",
   "metadata": {},
   "outputs": [],
   "source": [
    "import cv2"
   ]
  },
  {
   "cell_type": "code",
   "execution_count": 25,
   "id": "9b380ef8",
   "metadata": {},
   "outputs": [],
   "source": [
    "cap= cv2.VideoCapture(0)#connect inbuilt camera or 1 for usb webcam"
   ]
  },
  {
   "cell_type": "code",
   "execution_count": 27,
   "id": "977acb44",
   "metadata": {},
   "outputs": [],
   "source": [
    "status,photo=cap.read()"
   ]
  },
  {
   "cell_type": "code",
   "execution_count": 28,
   "id": "e00eae19",
   "metadata": {},
   "outputs": [
    {
     "data": {
      "text/plain": [
       "True"
      ]
     },
     "execution_count": 28,
     "metadata": {},
     "output_type": "execute_result"
    }
   ],
   "source": [
    "status"
   ]
  },
  {
   "cell_type": "code",
   "execution_count": 30,
   "id": "4fbfbe4a",
   "metadata": {},
   "outputs": [
    {
     "data": {
      "text/plain": [
       "True"
      ]
     },
     "execution_count": 30,
     "metadata": {},
     "output_type": "execute_result"
    }
   ],
   "source": [
    "#store data in particular location\n",
    "cv2.imwrite(\"div.png\",photo)"
   ]
  },
  {
   "cell_type": "code",
   "execution_count": 31,
   "id": "c6f9da29",
   "metadata": {},
   "outputs": [
    {
     "data": {
      "text/plain": [
       "array([[[172, 151, 153],\n",
       "        [169, 149, 151],\n",
       "        [166, 148, 149],\n",
       "        ...,\n",
       "        [176, 145, 133],\n",
       "        [176, 143, 131],\n",
       "        [179, 145, 132]],\n",
       "\n",
       "       [[170, 149, 151],\n",
       "        [169, 148, 150],\n",
       "        [167, 147, 149],\n",
       "        ...,\n",
       "        [179, 148, 137],\n",
       "        [178, 146, 135],\n",
       "        [178, 146, 134]],\n",
       "\n",
       "       [[168, 146, 148],\n",
       "        [168, 146, 148],\n",
       "        [169, 147, 149],\n",
       "        ...,\n",
       "        [180, 149, 141],\n",
       "        [180, 149, 141],\n",
       "        [180, 149, 141]],\n",
       "\n",
       "       ...,\n",
       "\n",
       "       [[ 73,  49,  60],\n",
       "        [ 73,  52,  61],\n",
       "        [ 69,  54,  62],\n",
       "        ...,\n",
       "        [147, 138, 177],\n",
       "        [145, 134, 173],\n",
       "        [145, 133, 172]],\n",
       "\n",
       "       [[ 63,  51,  60],\n",
       "        [ 62,  51,  60],\n",
       "        [ 59,  52,  59],\n",
       "        ...,\n",
       "        [149, 139, 176],\n",
       "        [145, 134, 171],\n",
       "        [143, 131, 168]],\n",
       "\n",
       "       [[ 59,  51,  61],\n",
       "        [ 58,  52,  60],\n",
       "        [ 56,  53,  60],\n",
       "        ...,\n",
       "        [149, 138, 175],\n",
       "        [145, 133, 169],\n",
       "        [143, 131, 167]]], dtype=uint8)"
      ]
     },
     "execution_count": 31,
     "metadata": {},
     "output_type": "execute_result"
    }
   ],
   "source": [
    "photo"
   ]
  },
  {
   "cell_type": "code",
   "execution_count": 32,
   "id": "3378cd2e",
   "metadata": {},
   "outputs": [
    {
     "data": {
      "text/plain": [
       "(480, 640, 3)"
      ]
     },
     "execution_count": 32,
     "metadata": {},
     "output_type": "execute_result"
    }
   ],
   "source": [
    "photo.shape\n"
   ]
  },
  {
   "cell_type": "code",
   "execution_count": 34,
   "id": "a111a686",
   "metadata": {},
   "outputs": [
    {
     "data": {
      "text/plain": [
       "True"
      ]
     },
     "execution_count": 34,
     "metadata": {},
     "output_type": "execute_result"
    }
   ],
   "source": [
    "crop1= photo[100:300,200:500]\n",
    "cv2.imwrite(\"crp.png\",crop1)"
   ]
  },
  {
   "cell_type": "code",
   "execution_count": null,
   "id": "19fe01ae",
   "metadata": {},
   "outputs": [],
   "source": []
  },
  {
   "cell_type": "markdown",
   "id": "b4f5a7f2",
   "metadata": {},
   "source": [
    "## "
   ]
  }
 ],
 "metadata": {
  "kernelspec": {
   "display_name": "Python 3 (ipykernel)",
   "language": "python",
   "name": "python3"
  },
  "language_info": {
   "codemirror_mode": {
    "name": "ipython",
    "version": 3
   },
   "file_extension": ".py",
   "mimetype": "text/x-python",
   "name": "python",
   "nbconvert_exporter": "python",
   "pygments_lexer": "ipython3",
   "version": "3.9.12"
  }
 },
 "nbformat": 4,
 "nbformat_minor": 5
}
