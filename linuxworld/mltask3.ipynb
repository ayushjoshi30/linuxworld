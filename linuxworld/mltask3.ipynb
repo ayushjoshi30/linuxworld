{
 "cells": [
  {
   "cell_type": "code",
   "execution_count": null,
   "id": "ad6b9bfe",
   "metadata": {},
   "outputs": [],
   "source": [
    "import cv2\n",
    "\n",
    "cap = cv2.VideoCapture(0)\n",
    "status, photo = cap.read()\n",
    "\n",
    "facemodel = cv2.CascadeClassifier(\"haarcascade_face.xml\")\n",
    "\n",
    "while True:\n",
    "    status, pics = cap.read()\n",
    "    myfacecoord = facemodel.detectMultiScale(pics)\n",
    "    \n",
    "    for (x, y, w, h) in myfacecoord:\n",
    "        x1 = x\n",
    "        y1 = y\n",
    "        x2 = x + w\n",
    "        y2 = y + h\n",
    "        cv2.rectangle(pics, (x1, y1), (x2, y2), [0, 255, 0], 2)\n",
    "        \n",
    "        # Display the cropped face region in a separate window\n",
    "        face_roi = pics[y1:y2, x1:x2]\n",
    "        cv2.imshow(\"Detected Face\", face_roi)\n",
    "\n",
    "    cv2.imshow(\"Webcam\", pics)\n",
    "    \n",
    "    if cv2.waitKey(10) == 13:  # Wait for Enter key to exit\n",
    "        break\n",
    "\n",
    "cap.release()\n",
    "cv2.destroyAllWindows()"
   ]
  },
  {
   "cell_type": "code",
   "execution_count": null,
   "id": "3f0667b9",
   "metadata": {},
   "outputs": [],
   "source": []
  }
 ],
 "metadata": {
  "kernelspec": {
   "display_name": "Python 3 (ipykernel)",
   "language": "python",
   "name": "python3"
  },
  "language_info": {
   "codemirror_mode": {
    "name": "ipython",
    "version": 3
   },
   "file_extension": ".py",
   "mimetype": "text/x-python",
   "name": "python",
   "nbconvert_exporter": "python",
   "pygments_lexer": "ipython3",
   "version": "3.10.8"
  }
 },
 "nbformat": 4,
 "nbformat_minor": 5
}
