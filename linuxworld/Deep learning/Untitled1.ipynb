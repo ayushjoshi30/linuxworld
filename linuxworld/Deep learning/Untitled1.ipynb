{
 "cells": [
  {
   "cell_type": "code",
   "execution_count": 3,
   "id": "97100fcd",
   "metadata": {},
   "outputs": [
    {
     "ename": "AttributeError",
     "evalue": "module 'mediapipe.python.solutions.face_mesh' has no attribute 'draw_landmarks'",
     "output_type": "error",
     "traceback": [
      "\u001b[1;31m---------------------------------------------------------------------------\u001b[0m",
      "\u001b[1;31mAttributeError\u001b[0m                            Traceback (most recent call last)",
      "Cell \u001b[1;32mIn[3], line 41\u001b[0m\n\u001b[0;32m     38\u001b[0m landmarks \u001b[38;5;241m=\u001b[39m np\u001b[38;5;241m.\u001b[39marray(landmarks)\n\u001b[0;32m     40\u001b[0m \u001b[38;5;66;03m# Draw the triangles for each facial landmark\u001b[39;00m\n\u001b[1;32m---> 41\u001b[0m \u001b[43mmp_face_mesh\u001b[49m\u001b[38;5;241;43m.\u001b[39;49m\u001b[43mdraw_landmarks\u001b[49m(mask, face_landmarks, mp_face_mesh\u001b[38;5;241m.\u001b[39mFACE_CONNECTIONS)\n\u001b[0;32m     43\u001b[0m \u001b[38;5;66;03m# Resize the anime face to fit the face dimensions\u001b[39;00m\n\u001b[0;32m     44\u001b[0m anime_face_resized \u001b[38;5;241m=\u001b[39m cv2\u001b[38;5;241m.\u001b[39mresize(anime_face, (img\u001b[38;5;241m.\u001b[39mshape[\u001b[38;5;241m1\u001b[39m], img\u001b[38;5;241m.\u001b[39mshape[\u001b[38;5;241m0\u001b[39m]))\n",
      "\u001b[1;31mAttributeError\u001b[0m: module 'mediapipe.python.solutions.face_mesh' has no attribute 'draw_landmarks'"
     ]
    }
   ],
   "source": [
    "import cv2\n",
    "import mediapipe as mp\n",
    "import numpy as np\n",
    "\n",
    "# Load the anime-style face image\n",
    "anime_face = cv2.imread('anime_face.png')\n",
    "\n",
    "# Initialize the MediaPipe FaceMesh model\n",
    "mp_face_mesh = mp.solutions.face_mesh\n",
    "face_mesh = mp_face_mesh.FaceMesh()\n",
    "\n",
    "# Initialize the webcam or load a video\n",
    "cap = cv2.VideoCapture(0)  # Change the parameter to a video file path if needed\n",
    "\n",
    "while True:\n",
    "    success, img = cap.read()\n",
    "    img = cv2.flip(img, 1)  # Flip the image horizontally for mirror effect\n",
    "\n",
    "    # Convert the BGR image to RGB\n",
    "    img_rgb = cv2.cvtColor(img, cv2.COLOR_BGR2RGB)\n",
    "\n",
    "    # Find the face landmarks using MediaPipe FaceMesh\n",
    "    results = face_mesh.process(img_rgb)\n",
    "\n",
    "    if results.multi_face_landmarks:\n",
    "        # Iterate over the detected faces\n",
    "        for face_landmarks in results.multi_face_landmarks:\n",
    "            # Convert the normalized landmarks to pixel coordinates\n",
    "            landmarks = []\n",
    "            for landmark in face_landmarks.landmark:\n",
    "                x, y = int(landmark.x * img.shape[1]), int(landmark.y * img.shape[0])\n",
    "                landmarks.append((x, y))\n",
    "\n",
    "            # Create a blank mask of the same size as the input image\n",
    "            mask = np.zeros_like(img)\n",
    "\n",
    "            # Convert the landmarks to a NumPy array\n",
    "            landmarks = np.array(landmarks)\n",
    "\n",
    "            # Draw the triangles for each facial landmark\n",
    "            mp_face_mesh.draw_landmarks(mask, face_landmarks, mp_face_mesh.FACE_CONNECTIONS)\n",
    "\n",
    "            # Resize the anime face to fit the face dimensions\n",
    "            anime_face_resized = cv2.resize(anime_face, (img.shape[1], img.shape[0]))\n",
    "\n",
    "            # Apply the mask to the anime face\n",
    "            anime_face_masked = cv2.bitwise_and(anime_face_resized, mask)\n",
    "\n",
    "            # Combine the masked anime face with the original image\n",
    "            output = cv2.bitwise_or(img, anime_face_masked)\n",
    "\n",
    "            # Display the output image\n",
    "            cv2.imshow(\"Anime Face Conversion\", output)\n",
    "    else:\n",
    "        cv2.imshow(\"Anime Face Conversion\", img)\n",
    "\n",
    "    # Break the loop when 'q' is pressed\n",
    "    if cv2.waitKey(1) & 0xFF == ord('q'):\n",
    "        break\n",
    "\n",
    "# Release the video capture and close all windows\n",
    "cap.release()\n",
    "cv2.destroyAllWindows()"
   ]
  },
  {
   "cell_type": "code",
   "execution_count": null,
   "id": "36a148a3",
   "metadata": {},
   "outputs": [],
   "source": []
  }
 ],
 "metadata": {
  "kernelspec": {
   "display_name": "Python 3 (ipykernel)",
   "language": "python",
   "name": "python3"
  },
  "language_info": {
   "codemirror_mode": {
    "name": "ipython",
    "version": 3
   },
   "file_extension": ".py",
   "mimetype": "text/x-python",
   "name": "python",
   "nbconvert_exporter": "python",
   "pygments_lexer": "ipython3",
   "version": "3.9.7"
  }
 },
 "nbformat": 4,
 "nbformat_minor": 5
}
