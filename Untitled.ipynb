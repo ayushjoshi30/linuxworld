{
 "cells": [
  {
   "cell_type": "markdown",
   "id": "03f5344d",
   "metadata": {},
   "source": [
    "LIST IN  DICTIONARY\n"
   ]
  },
  {
   "cell_type": "code",
   "execution_count": 1,
   "id": "ffd7af96",
   "metadata": {},
   "outputs": [],
   "source": [
    "students={\n",
    "    \"name\":[\"vimal\",\"abhi\",\"rahul\"],\n",
    "    \"remarks\":[\"okk\",\"good\",\"vgood\"],\n",
    "    \"mob\":[1111,2222,3333]\n",
    "}"
   ]
  },
  {
   "cell_type": "code",
   "execution_count": 2,
   "id": "8758e368",
   "metadata": {},
   "outputs": [
    {
     "data": {
      "text/plain": [
       "{'name': ['vimal', 'abhi', 'rahul'],\n",
       " 'remarks': ['okk', 'good', 'vgood'],\n",
       " 'mob': [1111, 2222, 3333]}"
      ]
     },
     "execution_count": 2,
     "metadata": {},
     "output_type": "execute_result"
    }
   ],
   "source": [
    "students"
   ]
  },
  {
   "cell_type": "code",
   "execution_count": 7,
   "id": "f1e373ad",
   "metadata": {},
   "outputs": [
    {
     "data": {
      "text/plain": [
       "('abhi', 'good', 2222)"
      ]
     },
     "execution_count": 7,
     "metadata": {},
     "output_type": "execute_result"
    }
   ],
   "source": [
    "students[\"name\"][1],students[\"remarks\"][1],students[\"mob\"][1]"
   ]
  },
  {
   "cell_type": "markdown",
   "id": "6312f707",
   "metadata": {},
   "source": [
    "in list we can do rowwise but not column wise and viseaversa in dictionary"
   ]
  },
  {
   "cell_type": "code",
   "execution_count": 8,
   "id": "de1c10e5",
   "metadata": {},
   "outputs": [],
   "source": [
    "import pandas"
   ]
  },
  {
   "cell_type": "code",
   "execution_count": 10,
   "id": "cd2204f8",
   "metadata": {},
   "outputs": [],
   "source": [
    "mydb=pandas.DataFrame(students)"
   ]
  },
  {
   "cell_type": "code",
   "execution_count": 11,
   "id": "677ddc91",
   "metadata": {},
   "outputs": [
    {
     "data": {
      "text/html": [
       "<div>\n",
       "<style scoped>\n",
       "    .dataframe tbody tr th:only-of-type {\n",
       "        vertical-align: middle;\n",
       "    }\n",
       "\n",
       "    .dataframe tbody tr th {\n",
       "        vertical-align: top;\n",
       "    }\n",
       "\n",
       "    .dataframe thead th {\n",
       "        text-align: right;\n",
       "    }\n",
       "</style>\n",
       "<table border=\"1\" class=\"dataframe\">\n",
       "  <thead>\n",
       "    <tr style=\"text-align: right;\">\n",
       "      <th></th>\n",
       "      <th>name</th>\n",
       "      <th>remarks</th>\n",
       "      <th>mob</th>\n",
       "    </tr>\n",
       "  </thead>\n",
       "  <tbody>\n",
       "    <tr>\n",
       "      <th>0</th>\n",
       "      <td>vimal</td>\n",
       "      <td>okk</td>\n",
       "      <td>1111</td>\n",
       "    </tr>\n",
       "    <tr>\n",
       "      <th>1</th>\n",
       "      <td>abhi</td>\n",
       "      <td>good</td>\n",
       "      <td>2222</td>\n",
       "    </tr>\n",
       "    <tr>\n",
       "      <th>2</th>\n",
       "      <td>rahul</td>\n",
       "      <td>vgood</td>\n",
       "      <td>3333</td>\n",
       "    </tr>\n",
       "  </tbody>\n",
       "</table>\n",
       "</div>"
      ],
      "text/plain": [
       "    name remarks   mob\n",
       "0  vimal     okk  1111\n",
       "1   abhi    good  2222\n",
       "2  rahul   vgood  3333"
      ]
     },
     "execution_count": 11,
     "metadata": {},
     "output_type": "execute_result"
    }
   ],
   "source": [
    "mydb"
   ]
  },
  {
   "cell_type": "markdown",
   "id": "de822e3f",
   "metadata": {},
   "source": [
    "for column vise"
   ]
  },
  {
   "cell_type": "code",
   "execution_count": 12,
   "id": "1fbcce20",
   "metadata": {},
   "outputs": [
    {
     "data": {
      "text/plain": [
       "0    vimal\n",
       "1     abhi\n",
       "2    rahul\n",
       "Name: name, dtype: object"
      ]
     },
     "execution_count": 12,
     "metadata": {},
     "output_type": "execute_result"
    }
   ],
   "source": [
    "mydb[\"name\"]"
   ]
  },
  {
   "cell_type": "code",
   "execution_count": 13,
   "id": "5a51b685",
   "metadata": {},
   "outputs": [
    {
     "data": {
      "text/html": [
       "<div>\n",
       "<style scoped>\n",
       "    .dataframe tbody tr th:only-of-type {\n",
       "        vertical-align: middle;\n",
       "    }\n",
       "\n",
       "    .dataframe tbody tr th {\n",
       "        vertical-align: top;\n",
       "    }\n",
       "\n",
       "    .dataframe thead th {\n",
       "        text-align: right;\n",
       "    }\n",
       "</style>\n",
       "<table border=\"1\" class=\"dataframe\">\n",
       "  <thead>\n",
       "    <tr style=\"text-align: right;\">\n",
       "      <th></th>\n",
       "      <th>name</th>\n",
       "      <th>remarks</th>\n",
       "    </tr>\n",
       "  </thead>\n",
       "  <tbody>\n",
       "    <tr>\n",
       "      <th>0</th>\n",
       "      <td>vimal</td>\n",
       "      <td>okk</td>\n",
       "    </tr>\n",
       "    <tr>\n",
       "      <th>1</th>\n",
       "      <td>abhi</td>\n",
       "      <td>good</td>\n",
       "    </tr>\n",
       "    <tr>\n",
       "      <th>2</th>\n",
       "      <td>rahul</td>\n",
       "      <td>vgood</td>\n",
       "    </tr>\n",
       "  </tbody>\n",
       "</table>\n",
       "</div>"
      ],
      "text/plain": [
       "    name remarks\n",
       "0  vimal     okk\n",
       "1   abhi    good\n",
       "2  rahul   vgood"
      ]
     },
     "execution_count": 13,
     "metadata": {},
     "output_type": "execute_result"
    }
   ],
   "source": [
    "mydb[[\"name\",\"remarks\"]]"
   ]
  },
  {
   "cell_type": "markdown",
   "id": "390942ec",
   "metadata": {},
   "source": [
    "for rowwise op\n",
    "\n"
   ]
  },
  {
   "cell_type": "markdown",
   "id": "38beac05",
   "metadata": {},
   "source": [
    "we use loc[]"
   ]
  },
  {
   "cell_type": "code",
   "execution_count": 14,
   "id": "1bc4a95e",
   "metadata": {},
   "outputs": [
    {
     "data": {
      "text/plain": [
       "name       vimal\n",
       "remarks      okk\n",
       "mob         1111\n",
       "Name: 0, dtype: object"
      ]
     },
     "execution_count": 14,
     "metadata": {},
     "output_type": "execute_result"
    }
   ],
   "source": [
    "mydb.loc[0]"
   ]
  },
  {
   "cell_type": "code",
   "execution_count": 16,
   "id": "b578074a",
   "metadata": {},
   "outputs": [
    {
     "data": {
      "text/html": [
       "<div>\n",
       "<style scoped>\n",
       "    .dataframe tbody tr th:only-of-type {\n",
       "        vertical-align: middle;\n",
       "    }\n",
       "\n",
       "    .dataframe tbody tr th {\n",
       "        vertical-align: top;\n",
       "    }\n",
       "\n",
       "    .dataframe thead th {\n",
       "        text-align: right;\n",
       "    }\n",
       "</style>\n",
       "<table border=\"1\" class=\"dataframe\">\n",
       "  <thead>\n",
       "    <tr style=\"text-align: right;\">\n",
       "      <th></th>\n",
       "      <th>name</th>\n",
       "      <th>remarks</th>\n",
       "      <th>mob</th>\n",
       "    </tr>\n",
       "  </thead>\n",
       "  <tbody>\n",
       "    <tr>\n",
       "      <th>0</th>\n",
       "      <td>vimal</td>\n",
       "      <td>okk</td>\n",
       "      <td>1111</td>\n",
       "    </tr>\n",
       "    <tr>\n",
       "      <th>1</th>\n",
       "      <td>abhi</td>\n",
       "      <td>good</td>\n",
       "      <td>2222</td>\n",
       "    </tr>\n",
       "  </tbody>\n",
       "</table>\n",
       "</div>"
      ],
      "text/plain": [
       "    name remarks   mob\n",
       "0  vimal     okk  1111\n",
       "1   abhi    good  2222"
      ]
     },
     "execution_count": 16,
     "metadata": {},
     "output_type": "execute_result"
    }
   ],
   "source": [
    "mydb.loc[[0,1]]"
   ]
  },
  {
   "cell_type": "markdown",
   "id": "9640c26f",
   "metadata": {},
   "source": []
  },
  {
   "cell_type": "code",
   "execution_count": null,
   "id": "9cd57925",
   "metadata": {},
   "outputs": [],
   "source": []
  }
 ],
 "metadata": {
  "kernelspec": {
   "display_name": "Python 3 (ipykernel)",
   "language": "python",
   "name": "python3"
  },
  "language_info": {
   "codemirror_mode": {
    "name": "ipython",
    "version": 3
   },
   "file_extension": ".py",
   "mimetype": "text/x-python",
   "name": "python",
   "nbconvert_exporter": "python",
   "pygments_lexer": "ipython3",
   "version": "3.10.8"
  }
 },
 "nbformat": 4,
 "nbformat_minor": 5
}
